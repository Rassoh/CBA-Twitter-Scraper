{
 "cells": [
  {
   "cell_type": "code",
   "execution_count": 1,
   "id": "171e5a50",
   "metadata": {},
   "outputs": [
    {
     "ename": "ModuleNotFoundError",
     "evalue": "No module named 'collect'",
     "output_type": "error",
     "traceback": [
      "\u001b[31m---------------------------------------------------------------------------\u001b[39m",
      "\u001b[31mModuleNotFoundError\u001b[39m                       Traceback (most recent call last)",
      "\u001b[36mCell\u001b[39m\u001b[36m \u001b[39m\u001b[32mIn[1]\u001b[39m\u001b[32m, line 1\u001b[39m\n\u001b[32m----> \u001b[39m\u001b[32m1\u001b[39m \u001b[38;5;28;01mfrom\u001b[39;00m\u001b[38;5;250m \u001b[39m\u001b[34;01mcollect\u001b[39;00m\u001b[38;5;250m \u001b[39m\u001b[38;5;28;01mimport\u001b[39;00m collect_user_tweets\n\u001b[32m      2\u001b[39m df = collect_user_tweets(\u001b[33m\"\u001b[39m\u001b[33mCommBank\u001b[39m\u001b[33m\"\u001b[39m, total = \u001b[32m50\u001b[39m)\n\u001b[32m      3\u001b[39m df.to_csv(\u001b[33m\"\u001b[39m\u001b[33mdata/commbank_recent.csv\u001b[39m\u001b[33m\"\u001b[39m, index=\u001b[38;5;28;01mFalse\u001b[39;00m)\n",
      "\u001b[31mModuleNotFoundError\u001b[39m: No module named 'collect'"
     ]
    }
   ],
   "source": [
    "from collect import collect_user_tweets\n",
    "df = collect_user_tweets(\"CommBank\", total = 50)\n",
    "df.to_csv(\"data/commbank_recent.csv\", index=False)\n",
    "df-head()"
   ]
  }
 ],
 "metadata": {
  "kernelspec": {
   "display_name": "Python 3",
   "language": "python",
   "name": "python3"
  },
  "language_info": {
   "codemirror_mode": {
    "name": "ipython",
    "version": 3
   },
   "file_extension": ".py",
   "mimetype": "text/x-python",
   "name": "python",
   "nbconvert_exporter": "python",
   "pygments_lexer": "ipython3",
   "version": "3.11.0"
  }
 },
 "nbformat": 4,
 "nbformat_minor": 5
}
